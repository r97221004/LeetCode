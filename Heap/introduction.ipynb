{
 "cells": [
  {
   "cell_type": "markdown",
   "id": "002a4af0",
   "metadata": {},
   "source": [
    " 參考文章: https://shubo.io/binary-heap/#google_vignette"
   ]
  },
  {
   "cell_type": "markdown",
   "id": "94996c91",
   "metadata": {},
   "source": [
    "參考文章: https://medium.com/@tobby168/%E7%94%A8-python-%E5%AF%A6%E4%BD%9C-binary-heaps-priority-queue-12e0b82ed7b3"
   ]
  },
  {
   "cell_type": "raw",
   "id": "bfe20e79",
   "metadata": {},
   "source": [
    "Binary Heap (二元堆積) 是一種常見的資料結構，適合需要取最大最小值的場合，也適合用來解決 top-k 問題，同時也常被用來實作 priortity queue (優先權佇列)。在 Dijkstra 演算法中，堆積也扮演了重要的角色。Binary Heap 取出最大/最小值的時間複雜度為 O(logN)，而插入元素需要 O(logN) 的時間複雜度。"
   ]
  },
  {
   "cell_type": "markdown",
   "id": "753ad6a1",
   "metadata": {},
   "source": [
    "# Binary Heap 是什麼"
   ]
  },
  {
   "cell_type": "raw",
   "id": "8ad40c34",
   "metadata": {},
   "source": [
    "Binary heap 有兩個特點："
   ]
  },
  {
   "cell_type": "markdown",
   "id": "bc74b45a",
   "metadata": {},
   "source": [
    "##### 特點一"
   ]
  },
  {
   "cell_type": "raw",
   "id": "081fcf1e",
   "metadata": {},
   "source": [
    "Binary heap 是一個完全二元樹 (complete binary tree)，完全樹的意思是除了最後一層外每一層都填滿，最後一層必須由左至右填入。"
   ]
  },
  {
   "cell_type": "markdown",
   "id": "0b50a148",
   "metadata": {},
   "source": [
    "##### 特點二"
   ]
  },
  {
   "cell_type": "raw",
   "id": "37d71a4b",
   "metadata": {},
   "source": [
    "Max heap 的每個結點的值，大於其左節點的值和右節點的值，根節點是整棵樹最大的節點；Min heap 每個結點的值，小於其左節點的值和右節點的值，根節點是整棵樹最小的節點。"
   ]
  },
  {
   "cell_type": "markdown",
   "id": "0404bfd0",
   "metadata": {},
   "source": [
    "<img src='img/1.png'>"
   ]
  },
  {
   "cell_type": "raw",
   "id": "f5f06ae0",
   "metadata": {},
   "source": [
    "上面是一個 max heap tree 的例子：根節點是 100，也是整棵樹的最大值，其左節點和右節點分別為 19 及 36，小於根節點的 100。樹中每個節點的左節點和右節點均小於父節點。\n",
    "\n",
    "整棵樹除了最後一層以外均填滿，最後一層的節點由左至右依序填入，是一顆完全二元樹 (complete binary tree)。\n",
    "\n",
    "Binary Heap 有兩個主要的操作： insert() 和 extract_max()。"
   ]
  },
  {
   "cell_type": "markdown",
   "id": "b967c447",
   "metadata": {},
   "source": [
    "# insert() 操作"
   ]
  },
  {
   "cell_type": "raw",
   "id": "de339fcc",
   "metadata": {},
   "source": [
    "當我們插入元素到 binary heap 時，有以下幾個步驟要執行：\n",
    "\n",
    "先將欲插入的元素放入 binary heap 的最後一個位置\n",
    "1. 比較此元素和父節點的值，有必要的時候交換。以 max heap 為例，父節點必須比子節點還\n",
    "   大，因此如果子節點比父節點還大，就將其與父節點交換位置。\n",
    "2. 繼續對父節點重複此比較的過程，直到不能再向上移動為止。\n",
    "3. 這個操作又稱為 “swim”。\n",
    "insert() 的時間複雜度是 O(logN)，因為需要跟分支上的元素作比較，分支的高度是 O(logN)。"
   ]
  },
  {
   "cell_type": "markdown",
   "id": "1c97b5eb",
   "metadata": {},
   "source": [
    "# extract_max()操作"
   ]
  },
  {
   "cell_type": "raw",
   "id": "52d22336",
   "metadata": {},
   "source": [
    "當我們要取出最大值時，只要把樹的根節點取出即可。問題是要如何更新整棵樹的結構，使得刪除完之後還是一棵 binary heap tree？\n",
    "\n",
    "刪除的步驟如下：\n",
    "\n",
    "1. 取出最大的元素，也就是根節點，並且和樹的最後一個節點交換。\n",
    "2. 比較根節點和左右子節點，如果子節點較大則和根節點交換。如果左右子節點都比較大，則跟較 \n",
    "   大者交換，因為要維持 max heap 父節點大於子節點的結構。繼續對子節點重複與子節點比較\n",
    "   的過程，直到不能再向下移動為止。\n",
    "這個操作又稱為 “sink”。\n",
    "\n",
    "\n",
    "此操作的時間複雜度為 O(logN)。"
   ]
  },
  {
   "cell_type": "markdown",
   "id": "b657f7a0",
   "metadata": {},
   "source": [
    "# 使用 array 實作 heap"
   ]
  },
  {
   "cell_type": "raw",
   "id": "34c57db0",
   "metadata": {},
   "source": [
    "概念上 binary heap / max heap / min heap 是一個樹狀結構，但實務上我們可以不用 tree 而是用 array 來實作。這是怎麼做到的呢？\n",
    "\n",
    "用 array 來實作 complete binary tree 有幾個重點：\n",
    "\n",
    "1. index = 0 是根節點\n",
    "2. 對 index = n 的節點，其左子節點 index = 2*n + 1，右子節點 index = 2*n + 2。\n",
    "3. 對 index = n 的節點，其父節點 index = (n - 1) // 2，其中 // 表示整數除法。\n",
    "按照這樣的存法，就可以把一棵完全二元樹連續不間斷地放進一個 array 裡面。\n",
    "\n"
   ]
  },
  {
   "cell_type": "markdown",
   "id": "7f7dfa8c",
   "metadata": {},
   "source": [
    " <img src='img/2.png'>"
   ]
  },
  {
   "cell_type": "raw",
   "id": "b774d4a1",
   "metadata": {},
   "source": [
    "舉例來說，index = 3 的節點，其左子節點 index = 2 * 3 + 1 = 7, 右子節點 index = 2 * 3 + 2 = 8，其父節點為 index = (3 - 1) // 2 = 1。"
   ]
  },
  {
   "cell_type": "markdown",
   "id": "1dfc023b",
   "metadata": {},
   "source": [
    "# 用 Python 實作 Heap"
   ]
  },
  {
   "cell_type": "raw",
   "id": "b2205eff",
   "metadata": {},
   "source": [
    "下列 python 程式碼實作了 max heap 的 insert() 和 extract_max() 兩種操作。\n",
    "\n",
    "注意以下兩個重點：\n",
    "\n",
    "insert() 時，我們將元素插入 array 的最尾端，並用 __swim() 實現了將節點往上浮 (swim) 的操作。\n",
    "extract_max() 時，我們將最尾端的元素和最頂端的元素交換，並用 __sink() 實現了將節點往下沉 (sink) 的操作。"
   ]
  },
  {
   "cell_type": "code",
   "execution_count": null,
   "id": "cea72835",
   "metadata": {},
   "outputs": [],
   "source": [
    "class MaxHeap:\n",
    "\tdef __init__(self):\n",
    "\t\tself.heap = []\n",
    "\n",
    "\tdef insert(self, item):\n",
    "\t\tself.heap.append(item)\n",
    "\t\tself.__swim(len(self.heap) - 1)\n",
    "\n",
    "\tdef extract_max(self):\n",
    "\t\tvalue = self.heap[0]\n",
    "\t\tself.heap[0] = self.heap[-1]\n",
    "\t\tself.heap.pop()\n",
    "\t\tself.__sink(0)\n",
    "\t\treturn value\n",
    "\n",
    "\tdef __swim(self, k):\n",
    "\t\twhile (k > 0 and self.heap[(k - 1) // 2] < self.heap[k]):\n",
    "\t\t\tself.__swap((k - 1) // 2, k)\n",
    "\t\t\tk = (k - 1) // 2\n",
    "\n",
    "\t\twhile (k * 2 + 1 < len(self.heap)):\n",
    "\t\t\tj = k * 2 + 1\n",
    "\t\t\tif (k * 2 + 2 < len(self.heap) and self.heap[k * 2 + 2] > self.heap[k * 2 + 1]):\n",
    "\t\t\t\tj = k * 2 + 2\n",
    "\n",
    "\t\t\tif (self.heap[j] > self.heap[k]):\n",
    "\t\t\t\tself.__swap(j, k)\n",
    "\n",
    "\t\t\tk = j\n",
    "\n",
    "\tdef __swap(self, j, k):\n",
    "\t\ttmp = self.heap[j]\n",
    "\t\tself.heap[j] = self.heap[k]\n",
    "\t\tself.heap[k] = tmp"
   ]
  },
  {
   "cell_type": "markdown",
   "id": "ff6e9316",
   "metadata": {},
   "source": [
    "# Heap 的應用"
   ]
  },
  {
   "cell_type": "markdown",
   "id": "ddef16f9",
   "metadata": {},
   "source": [
    "##### Top-k Problems"
   ]
  },
  {
   "cell_type": "raw",
   "id": "71c227c6",
   "metadata": {},
   "source": [
    "我們需要維護一個 top-k 的列表時，binary heap 就是一個很適合的資料結構，例如我想要維護一個前百大熱門的直播主的清單等。"
   ]
  },
  {
   "cell_type": "markdown",
   "id": "2d8451f9",
   "metadata": {},
   "source": [
    "##### Priority Queue"
   ]
  },
  {
   "cell_type": "raw",
   "id": "6be539d5",
   "metadata": {},
   "source": [
    "將一堆 task 放進 priority queue，每次都取優先度最高的 task 執行。這裡的 proirity queue 就可以用 heap 來實作。"
   ]
  },
  {
   "cell_type": "raw",
   "id": "00cb2408",
   "metadata": {},
   "source": [
    "Priority Queue 比較常聽到的翻譯是「優先權佇列」，這裡的 Queue 概念與資料結構中的 Queue 我認為是滿相似的，一般來說 Queue 是「先進先出」（first-in-first-out）的，而 Priority Queue 也是指多個資料放入後，只能以特定的順序來一個個存取出來。而這個特定的順序，即是 Priority（優先權）的概念，可以是值的大小、花費的成本、距離截止的時間等等。"
   ]
  },
  {
   "cell_type": "markdown",
   "id": "4e106192",
   "metadata": {},
   "source": [
    "# python 套件 heapq 的 基本用法"
   ]
  },
  {
   "cell_type": "code",
   "execution_count": 2,
   "id": "5d2120f7",
   "metadata": {},
   "outputs": [],
   "source": [
    "import heapq"
   ]
  },
  {
   "cell_type": "raw",
   "id": "0768325d",
   "metadata": {},
   "source": [
    "heapify函數將可迭代物件轉換成一個堆。它會就地修改原來的list，將其轉換為符合堆特性的結構，注意是min heap。"
   ]
  },
  {
   "cell_type": "code",
   "execution_count": 3,
   "id": "92319110",
   "metadata": {},
   "outputs": [
    {
     "data": {
      "text/plain": [
       "[1, 1, 2, 3, 3, 9, 4, 6, 5, 5, 5]"
      ]
     },
     "execution_count": 3,
     "metadata": {},
     "output_type": "execute_result"
    }
   ],
   "source": [
    "numbers = [3, 1, 4, 1, 5, 9, 2, 6, 5, 3, 5]\n",
    "heapq.heapify(numbers)\n",
    "numbers"
   ]
  },
  {
   "cell_type": "markdown",
   "id": "76d869e4",
   "metadata": {},
   "source": [
    "---"
   ]
  },
  {
   "cell_type": "raw",
   "id": "476db2a4",
   "metadata": {},
   "source": [
    "heappush(heap, item)：將元素加入到堆中。"
   ]
  },
  {
   "cell_type": "code",
   "execution_count": 15,
   "id": "9a5dd6f6",
   "metadata": {},
   "outputs": [
    {
     "data": {
      "text/plain": [
       "[2, 4, 3, 5]"
      ]
     },
     "execution_count": 15,
     "metadata": {},
     "output_type": "execute_result"
    }
   ],
   "source": [
    "heap = []\n",
    "heapq.heapify(heap)\n",
    "heapq.heappush(heap, 4)\n",
    "heapq.heappush(heap, 3)\n",
    "heapq.heappush(heap, 2)\n",
    "heapq.heappush(heap, 5)\n",
    "heap "
   ]
  },
  {
   "cell_type": "markdown",
   "id": "f47ba1ef",
   "metadata": {},
   "source": [
    "---"
   ]
  },
  {
   "cell_type": "raw",
   "id": "ff2576e0",
   "metadata": {},
   "source": [
    "heappop(heap)：從堆中彈出最小的元素。"
   ]
  },
  {
   "cell_type": "code",
   "execution_count": 14,
   "id": "6352961b",
   "metadata": {},
   "outputs": [
    {
     "name": "stdout",
     "output_type": "stream",
     "text": [
      "1\n",
      "[2, 3]\n"
     ]
    }
   ],
   "source": [
    "heap = [2, 1, 3]\n",
    "heapq.heapify(heap)\n",
    "print(heapq.heappop(heap))  # 輸出: 1\n",
    "print(heap)  # 輸出: [2, 3]"
   ]
  },
  {
   "cell_type": "markdown",
   "id": "9a6e4a7e",
   "metadata": {},
   "source": [
    "---"
   ]
  },
  {
   "cell_type": "raw",
   "id": "8957a407",
   "metadata": {},
   "source": [
    "heappushpop(heap, item)：將元素加入到堆中並彈出最小的元素。這個函式的效率比先分別調用 heappush() 和 heappop() 更高。"
   ]
  },
  {
   "cell_type": "code",
   "execution_count": 16,
   "id": "c796b3ce",
   "metadata": {},
   "outputs": [
    {
     "name": "stdout",
     "output_type": "stream",
     "text": [
      "1\n",
      "[2, 3, 4]\n"
     ]
    }
   ],
   "source": [
    "heap = [2, 3, 4]\n",
    "heapq.heapify(heap)\n",
    "print(heapq.heappushpop(heap, 1))  # 輸出: 1\n",
    "print(heap)  # 輸出: [2, 3, 4]"
   ]
  },
  {
   "cell_type": "code",
   "execution_count": null,
   "id": "f8998f05",
   "metadata": {},
   "outputs": [],
   "source": []
  }
 ],
 "metadata": {
  "kernelspec": {
   "display_name": "Python 3 (ipykernel)",
   "language": "python",
   "name": "python3"
  },
  "language_info": {
   "codemirror_mode": {
    "name": "ipython",
    "version": 3
   },
   "file_extension": ".py",
   "mimetype": "text/x-python",
   "name": "python",
   "nbconvert_exporter": "python",
   "pygments_lexer": "ipython3",
   "version": "3.9.6"
  }
 },
 "nbformat": 4,
 "nbformat_minor": 5
}
