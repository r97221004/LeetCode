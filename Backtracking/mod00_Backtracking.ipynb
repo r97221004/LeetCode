{
 "cells": [
  {
   "cell_type": "markdown",
   "id": "abd9cfc1",
   "metadata": {},
   "source": [
    "參考文章: https://medium.com/appworks-school/%E9%80%B2%E5%85%A5%E9%81%9E%E8%BF%B4-recursion-%E7%9A%84%E4%B8%96%E7%95%8C-%E4%B8%89-d2fd70b5b171"
   ]
  },
  {
   "cell_type": "markdown",
   "id": "aec85d31",
   "metadata": {},
   "source": [
    "參考文章: https://medium.com/appworks-school/%E9%80%B2%E5%85%A5%E9%81%9E%E8%BF%B4-recursion-%E7%9A%84%E4%B8%96%E7%95%8C-%E5%9B%9B-27d86b9fbd1d"
   ]
  },
  {
   "cell_type": "markdown",
   "id": "a1703035",
   "metadata": {},
   "source": [
    "# Backtracking"
   ]
  },
  {
   "cell_type": "raw",
   "id": "8c4c623c",
   "metadata": {},
   "source": [
    "窮舉所有可能性，又稱為回溯法（Backtracking）。窮舉顧名思義，就是把所有可能性都一一列舉一遍，有些題目是非常容易的，例如要你印出整張 99 乘法表，那最簡單的做法當然就是用兩個迴圈，窮舉 1*1=1, 1*2=2, … 9*9=81 即可。但有些題目就不那麼容易了，這時我們可以利用遞迴的另一種思維，一層一層的往下走，就像全面啟動一樣，你要知道你走到了第幾層夢境，然後帶著必要的資訊繼續往下層走，直到走到某一層必須停止，然後往上回溯回來，整個過程中你就會找到（人生的？）答案，並小心不要迷失在裡面…。\n",
    "\n",
    "不囉唆了，直接來看問題吧！"
   ]
  },
  {
   "cell_type": "markdown",
   "id": "fc2f61ab",
   "metadata": {},
   "source": [
    "### Q: 列出所有可能的數字密碼"
   ]
  },
  {
   "cell_type": "raw",
   "id": "4cf3dd9d",
   "metadata": {},
   "source": [
    "假如有一天你忘了自己的手機密碼，想寫個程式幫你嘗試所有可能的組合來暴力破解，你該怎麼做呢？\n",
    "\n",
    "當然，假如密碼只有 4 位數，最簡單的做法是寫個 4 層迴圈，但這樣一來程式碼很醜，二來很不利於修改，假如有一天我想換成 6 位數密碼，你還得再多加兩層迴圈，非常的不方便。這時候讓我們來看看遞迴版本的想法。\n",
    "\n",
    "爲了更易於理解，我們先將問題再簡化一下，現在考慮只有 3 位數的密碼，且每一位數只有 1～3 三種數字。所以我們所有可能的密碼就是"
   ]
  },
  {
   "cell_type": "raw",
   "id": "2550a819",
   "metadata": {},
   "source": [
    "111, 112, 113, 121, 122, … , 331, 332, 333（共 27 種）"
   ]
  },
  {
   "cell_type": "raw",
   "id": "15b8f8db",
   "metadata": {},
   "source": [
    "接下來我們將問題分成一層一層來處理。每次呼叫自己（遞迴）時，其實就是往下一層走的意思，而每一層就是多一碼。"
   ]
  },
  {
   "cell_type": "raw",
   "id": "a1e458a6",
   "metadata": {},
   "source": [
    "1. 最開始只有一個空的東西，孤單的存在世界上（可以假想爲第 0 層）"
   ]
  },
  {
   "cell_type": "markdown",
   "id": "aa7ef064",
   "metadata": {},
   "source": [
    "<img src= './img/1.webp'>"
   ]
  },
  {
   "cell_type": "raw",
   "id": "62eea6a5",
   "metadata": {},
   "source": [
    "2. 我們的第零層，會一一對空的 Array 填上所有可能的數字，再往下層傳下去，所以到第一層的時候，每個第一層的人，應該都有一個元素了，如下圖。可以把他想成整個密碼中第一碼的所有可能分支。"
   ]
  },
  {
   "cell_type": "markdown",
   "id": "eb5354b1",
   "metadata": {},
   "source": [
    "<img src= './img/2.webp'>"
   ]
  },
  {
   "cell_type": "code",
   "execution_count": null,
   "id": "2581dbbe",
   "metadata": {},
   "outputs": [],
   "source": []
  },
  {
   "cell_type": "raw",
   "id": "b42553bf",
   "metadata": {},
   "source": [
    "3. 第一層則是同樣對每個東西，再後面繼續分別 append 1, 2, 3，再往下層傳下去第二層（遞迴開始了）。所以第二層如下圖。也就密碼前兩碼的所有可能分支\n",
    "\n"
   ]
  },
  {
   "cell_type": "markdown",
   "id": "bc89125a",
   "metadata": {},
   "source": [
    "<img src= './img/3.webp'>"
   ]
  },
  {
   "cell_type": "raw",
   "id": "853a4a11",
   "metadata": {},
   "source": [
    "4. 同樣的，在第二層時，一樣對每個 append 1, 2, 3，再傳到第三層。如下圖"
   ]
  },
  {
   "cell_type": "markdown",
   "id": "f4faab56",
   "metadata": {},
   "source": [
    "<img src= './img/4.webp'>"
   ]
  },
  {
   "cell_type": "raw",
   "id": "7a55671c",
   "metadata": {},
   "source": [
    "到這邊為止，因為已經到了我們預設的最後一層，我們會在這層停下，並成功窮舉了所有可能的三位數密碼。\n",
    "\n",
    "現在，概念講完了，我來帶大家一步步看遞迴的程式碼要怎樣寫出來！\n",
    "首先，我們將這個 function 暫且稱作 create，他會需要以下三個參數\n",
    "1. 現在層數（深度）：depth（一開始等於 0）\n",
    "2. 最大層數（深度）：max_depth（這個目前等於 3，因為是 3 位數密碼）\n",
    "3. 到這一層時的密碼：password（一開始是一個空 Array）"
   ]
  },
  {
   "cell_type": "code",
   "execution_count": null,
   "id": "7e0e0180",
   "metadata": {},
   "outputs": [],
   "source": [
    "def create(depth: int, max_depth: int, password: List[int]):\n",
    "    print(depth) # 印出層數"
   ]
  },
  {
   "cell_type": "raw",
   "id": "05bca3b7",
   "metadata": {},
   "source": [
    "往下層走，在程式上代表的就是，遞迴呼叫自己一次，並將層數 + 1（depth + 1），如果執行以下程式碼，你應該就會看到不斷增加的層數（直到 stack overflow…）"
   ]
  },
  {
   "cell_type": "code",
   "execution_count": null,
   "id": "793c8b8f",
   "metadata": {},
   "outputs": [],
   "source": [
    "def create(depth: int, max_depth: int, password: List[int]):\n",
    "    print(depth) # 印出層數\n",
    "    create(depth + 1, max_depth, password) # 往下層走"
   ]
  },
  {
   "cell_type": "raw",
   "id": "35e17ccc",
   "metadata": {},
   "source": [
    "接下來，要在每一層時，將上層給你的 Array 在後面 append 1～3 ，然後傳到下層去。該怎麼做呢？"
   ]
  },
  {
   "cell_type": "code",
   "execution_count": null,
   "id": "890f388c",
   "metadata": {},
   "outputs": [],
   "source": [
    "def create(depth: int, max_depth: int, password: List[int]):\n",
    "    for i in range(3):\n",
    "        new_password = password + [i+1]\n",
    "        create(depth + 1, max_depth, new_password) # 往下層走"
   ]
  },
  {
   "cell_type": "raw",
   "id": "12d116fc",
   "metadata": {},
   "source": [
    "如此一來，你會呼叫自己 3 次，這三個就會走入下一層，他們的深度會 +1，並且 password 分別被增加了 [1], [2] 與 [3]，最核心的部分已經完成！\n",
    "\n",
    "但上面這個做法有個小小的缺點，他會讓每次往下層走的時候，password 整個被重新複製一份（new_password = password + [i+1] 造成），要解決這個問題，可以採用以下寫法，但須要動一點腦筋想想他在做什麼。"
   ]
  },
  {
   "cell_type": "code",
   "execution_count": null,
   "id": "81ef48b9",
   "metadata": {},
   "outputs": [],
   "source": [
    "def create(depth: int, max_depth: int, password: List[int]):\n",
    "    for i in range(3):\n",
    "        password.append(i + 1)\n",
    "        create(depth + 1, max_depth, password) # 往下層走\n",
    "        password.pop()"
   ]
  },
  {
   "cell_type": "raw",
   "id": "c974a8f3",
   "metadata": {},
   "source": [
    "這次我們從頭到尾都在利用同一個 password Array（註：python 的 Array 是 pass by reference 的），沒有創造任何新的出來，而當我們每次往下層走的時候，都要多塞一個密碼數字給他 password.append(i + 1) ，但是當我們結束了這層下面的所有事情後，回到原本這層，並要進入迴圈的下一輪之前，得將剛剛加進去的新東西給 pop 掉 password.pop() 。下圖以第零層為例，你的迴圈分別會經過這九個步驟，可以對照程式碼看一遍。"
   ]
  },
  {
   "cell_type": "markdown",
   "id": "da763e61",
   "metadata": {},
   "source": [
    "<img src= './img/5.webp'>"
   ]
  },
  {
   "cell_type": "raw",
   "id": "f3980975",
   "metadata": {},
   "source": [
    "如果你到現在還有跟上，恭喜你，你已經理解了用遞迴窮舉可能性的最核心精神了！這也是回溯法（Backtracking）的核心精神，不斷往下層窮舉所有可能性，並在正確的時候結束並回溯，然後繼續走另一條路。而有些更進階的回溯法會有更多可以提早結束的條件，來讓搜索的東西減少，我們稱之爲剪枝（pruning）。如果讀者曾經有學過樹（Tree）與圖（Graph）的深度優先搜尋演算法（Depth First Search），觀念也是相似的。"
   ]
  },
  {
   "cell_type": "raw",
   "id": "672025c0",
   "metadata": {},
   "source": [
    "最後，讓我們把整份程式碼完成，還記得我們前兩篇都會有一個最小問題，讓他終止遞迴，現在也是類似的，只是從最小問題，換成最後問題，也就是當層數抵達我們最終的目標時，即可停止，同時我們也在此處印出答案。寫法如下："
   ]
  },
  {
   "cell_type": "code",
   "execution_count": null,
   "id": "13d75137",
   "metadata": {},
   "outputs": [],
   "source": [
    "def create(depth: int, max_depth: int, password: List[int]):\n",
    "    if (depth == max_depth): # 最後一層達到即停止\n",
    "        print(password) # 印出答案\n",
    "        return\n",
    "    for i in range(3):\n",
    "        password.append(i + 1)\n",
    "        create(depth + 1, max_depth, password) # 往下層走\n",
    "        password.pop()"
   ]
  },
  {
   "cell_type": "raw",
   "id": "5bb48b8b",
   "metadata": {},
   "source": [
    "最後一樣給大家看一下完整的程式碼"
   ]
  },
  {
   "cell_type": "code",
   "execution_count": null,
   "id": "29992243",
   "metadata": {},
   "outputs": [],
   "source": [
    "from typing import List\n",
    "\n",
    "class Solution:\n",
    "    def create(self, depth: int, max_depth: int, password: List[int]):\n",
    "        if (depth == max_depth):\n",
    "            print(password)\n",
    "            return\n",
    "\n",
    "        for i in range(3):\n",
    "            password.append(i + 1)\n",
    "            self.create(depth + 1, max_depth, password)\n",
    "            password.pop()\n",
    "\n",
    "    def find_all_passwords(self, digits: int):\n",
    "        self.create(0, digits, [])\n",
    "\n",
    "s = Solution()\n",
    "N = 3\n",
    "s.find_all_passwords(N)"
   ]
  },
  {
   "cell_type": "markdown",
   "id": "7d4b19ae",
   "metadata": {},
   "source": [
    "---"
   ]
  },
  {
   "cell_type": "raw",
   "id": "cb84d9f5",
   "metadata": {},
   "source": [
    "組合（Combination）與排列（Permutation）。這也是回溯法（Backtracking） 技巧的常見應用之一，更是演算法考題的重點基礎項目"
   ]
  },
  {
   "cell_type": "markdown",
   "id": "2e7bc66a",
   "metadata": {},
   "source": [
    "# 組合 （Combination）"
   ]
  },
  {
   "cell_type": "raw",
   "id": "6fc7fa56",
   "metadata": {},
   "source": [
    "Combination 類型的最基本問題，就是我們想知道在給定條件下，可以有幾種不同的組合。只要內容物不同，就被我們當作不同的組合，但如果內容物相同，只有排序不同，我們仍然視為相同組合。例如 [1, 2, 3] 與 [1, 2, 5] 是不同的組合，但 [1, 2, 3] 與 [3, 2, 1] 則被視為相同的組合，以下是來看看實際題目："
   ]
  },
  {
   "cell_type": "markdown",
   "id": "3b9080a3",
   "metadata": {},
   "source": [
    "### Q: 給定元素 [1, 2, 3, 4]，想從中挑選 3 個，不能重複挑選，請列出所有可能組合"
   ]
  },
  {
   "cell_type": "raw",
   "id": "90e2b7e3",
   "metadata": {},
   "source": [
    "先讓我們自己觀察一下，應該不難看出，答案只有四種，如下：\n",
    "[1, 2, 3], [1, 2, 4], [1, 3, 4], [2, 3, 4]\n",
    "但我們怎樣寫一個程式來找到他們呢？來看看上一篇學過的技巧怎樣派上用場。"
   ]
  },
  {
   "cell_type": "raw",
   "id": "b50085f1",
   "metadata": {},
   "source": [
    "1. 第零層，一樣我們從空無一物開始，但這次我們旁邊多註記了一下我們所有還可以使用的元素，這個非常重要，接下來我們就會使用它"
   ]
  },
  {
   "cell_type": "markdown",
   "id": "0fd90f35",
   "metadata": {},
   "source": [
    "<img src= './img/6.webp'>"
   ]
  },
  {
   "cell_type": "raw",
   "id": "59d81b28",
   "metadata": {},
   "source": [
    "2. 第一層，中間的答案是空的，還可以用的元素當然是全部的 [1, 2, 3, 4]。我們一樣將所有可以的元素放進去，並同樣在旁邊記錄還可以使用的元素。注意一個細節，由於 Combination 的特性是不同的順序視為一樣，例如 [1,2] 與 [2,1] 是一樣的，所以為了避免這種重複出現，我們僅保留順序排在選取元素後面的元素們，留給後續使用。所以第一層會變成如以下："
   ]
  },
  {
   "cell_type": "markdown",
   "id": "ace07d2d",
   "metadata": {},
   "source": [
    "<img src= './img/7.webp'>"
   ]
  },
  {
   "cell_type": "raw",
   "id": "6924c6e7",
   "metadata": {},
   "source": [
    "如上圖所示，如果選了第一個元素 [1]，則後面三個元素，都還繼續被當成可以使用的元素，如果選了第二個元素 [2]，則只有後面的 [3, 4] 被視為可以使用的元素，[1] 則不再使用，避免掉重複問題。"
   ]
  },
  {
   "cell_type": "raw",
   "id": "d0761628",
   "metadata": {},
   "source": [
    "另外可以發現，當選擇第四個元素時，此分支的還可以使用的元素就會變空的，這種分枝接下來將不會再繼續遞迴下去，產生新分支了，而是直接回溯（Backtracking）回去。"
   ]
  },
  {
   "cell_type": "raw",
   "id": "2d017101",
   "metadata": {},
   "source": [
    "3. 接下來進入第二層，相同的規則繼續往下"
   ]
  },
  {
   "cell_type": "markdown",
   "id": "75b2ddb8",
   "metadata": {},
   "source": [
    "<img src= './img/8.webp'>"
   ]
  },
  {
   "cell_type": "raw",
   "id": "0d969c50",
   "metadata": {},
   "source": [
    "到這一層，會發現有更多分枝的可以使用的元素已經清空了。提早停掉這些分支繼續往下擴大，可以大幅增加演算法的效率。這些提早的停止分支的動作也稱爲剪枝（Pruning）。"
   ]
  },
  {
   "cell_type": "raw",
   "id": "057f6ece",
   "metadata": {},
   "source": [
    "4. 最後，來到我們的第三層"
   ]
  },
  {
   "cell_type": "markdown",
   "id": "4acab956",
   "metadata": {},
   "source": [
    "<img src= './img/9.webp'>"
   ]
  },
  {
   "cell_type": "raw",
   "id": "b9d49a79",
   "metadata": {},
   "source": [
    "一旦某個分支的內容物已經達到指定個數（3個），他也將會停止繼續搜索，記錄答案後就回溯（Backtracking）回去。如我們最左下角的分支，他雖然還有可用元素，但也會停止在這邊。如此，我們原本預設的四個答案都在最後一層出現啦！以下來看看程式該怎麼寫："
   ]
  },
  {
   "cell_type": "raw",
   "id": "e1bdfa95",
   "metadata": {},
   "source": [
    "start：記錄目前走到哪個 index，我們只能用從它開始以後的元素繼續遞迴下去搜索（靠他可以 \n",
    "       得到上圖）\n",
    "comb：記錄目前可能答案（代表的就是上圖中，方框內部的東西）\n",
    "nums：原本全部可用元素陣列，以上面例子來說就是 [1, 2, 3, 4]\n",
    "max_length：最終答案陣列的長度，以上面例子來說就是 3"
   ]
  },
  {
   "cell_type": "code",
   "execution_count": 1,
   "id": "2653a7a8",
   "metadata": {},
   "outputs": [
    {
     "name": "stdout",
     "output_type": "stream",
     "text": [
      "[1, 2, 3]\n",
      "[1, 2, 4]\n",
      "[1, 3, 4]\n",
      "[2, 3, 4]\n"
     ]
    }
   ],
   "source": [
    "def find(start, nums, max_length, comb):\n",
    "    if len(comb) == max_length:\n",
    "        print(comb)\n",
    "        return\n",
    "    for i in range(start, len(nums)):\n",
    "        comb.append(nums[i])\n",
    "        find(i + 1, nums, max_length, comb)\n",
    "        comb.pop()\n",
    "find(0, [1, 2, 3, 4], 3, [])"
   ]
  },
  {
   "cell_type": "raw",
   "id": "5386f047",
   "metadata": {},
   "source": [
    "套用這個概念，我們就能來解 Leetcode 77 Combinations 的問題，題目是給定一個 n，代表可以使用的元素是 1~n，另外給定一個 k，代表最終答案想要取幾個元素，下面為範例程式碼。"
   ]
  },
  {
   "cell_type": "code",
   "execution_count": 5,
   "id": "e16b242b",
   "metadata": {},
   "outputs": [
    {
     "name": "stdout",
     "output_type": "stream",
     "text": [
      "[[1, 2, 3], [1, 2, 4], [1, 3, 4], [2, 3, 4]]\n"
     ]
    }
   ],
   "source": [
    "from typing import List\n",
    "class Solution:\n",
    "    def __init__(self):\n",
    "        self.ans = []\n",
    "\n",
    "    def find(self, start, nums, max_length, comb):\n",
    "        if len(comb) + (len(nums) - start) < max_length:\n",
    "            return\n",
    "\n",
    "        if len(comb) == max_length:\n",
    "            self.ans.append(comb[:])\n",
    "            return\n",
    "\n",
    "        for i in range(start, len(nums)):\n",
    "            comb.append(nums[i])\n",
    "            self.find(i + 1, nums, max_length, comb)\n",
    "            comb.pop()\n",
    "\n",
    "    def combine(self, n: int, k: int) -> List[List[int]]:\n",
    "        self.ans = []\n",
    "        self.find(0, [i + 1 for i in range(n)], k, [])\n",
    "        return self.ans\n",
    "      \n",
    "s1 = Solution()\n",
    "n = 4\n",
    "k = 3\n",
    "print(s1.combine(n, k))"
   ]
  },
  {
   "cell_type": "markdown",
   "id": "2a42b9cf",
   "metadata": {},
   "source": [
    "##### 注意: 假如 path = [] 那麼res.append(path)是淺拷貝而res.append(path[:])是深拷貝"
   ]
  },
  {
   "cell_type": "raw",
   "id": "11fa1880",
   "metadata": {},
   "source": [
    "如果有仔細看範例程式碼，會發現最前面多了個沒提到的神祕判斷"
   ]
  },
  {
   "cell_type": "raw",
   "id": "421c8e12",
   "metadata": {},
   "source": [
    "if len(comb) + (len(nums) - start) < max_length:\n",
    "    return"
   ]
  },
  {
   "cell_type": "raw",
   "id": "5f975a08",
   "metadata": {},
   "source": [
    "這句是當我們發現剩下的元素就算全部用完，也一定達不到要求的答案長度時，可以提早退出，這可以讓我們的程式碼再加速不少（但你不用他也可以被 Accept）。如果以時間複雜度來分析的話，假如我們都不做任何的提前結束優化，則總時間複雜度會是 O(2^N)，但如果把所有的優化都做到最好，則時間複雜度就是總排列個數，也就是 O(C(N, K))，其中 C(N, K) 就是高中數學學過的二項式係數。"
   ]
  },
  {
   "cell_type": "markdown",
   "id": "69d13c05",
   "metadata": {},
   "source": [
    "---"
   ]
  },
  {
   "cell_type": "raw",
   "id": "d8e3ec6d",
   "metadata": {},
   "source": [
    "雖然已經完成了，但我想和大家介紹另一個稍微不同的思路，一樣可以解決 Combination 的問題。上面的做法中，我們每次都把所有可能的元素嘗試一遍，但有另一個想法，是我們依序針對每個元素，每次都依照”選擇此元素”與”不選擇此元素”，走出兩個分支，如下所示："
   ]
  },
  {
   "cell_type": "raw",
   "id": "f8838ce2",
   "metadata": {},
   "source": [
    "1. 第零層到第一層時：我們開啟兩個分支，使用元素 1 與不使用元素 1。"
   ]
  },
  {
   "cell_type": "markdown",
   "id": "5b044151",
   "metadata": {},
   "source": [
    "<img src= './img/10.webp'>"
   ]
  },
  {
   "cell_type": "raw",
   "id": "a116e477",
   "metadata": {},
   "source": [
    "2. 第一層到第二層，則是繼續遞迴開啟兩個分支，使用元素 2與不使用元素 2。"
   ]
  },
  {
   "cell_type": "markdown",
   "id": "fcc7bf17",
   "metadata": {},
   "source": [
    "<img src= './img/11.webp'>"
   ]
  },
  {
   "cell_type": "raw",
   "id": "1e7acb28",
   "metadata": {},
   "source": [
    "3. 第二層到第三層的時候，會發現已經有分支找到 3 個元素了，這個分支就會在這邊停下來，如下圖紅框框所示"
   ]
  },
  {
   "cell_type": "markdown",
   "id": "b5ad02b3",
   "metadata": {},
   "source": [
    "<img src= './img/12.webp'>"
   ]
  },
  {
   "cell_type": "raw",
   "id": "b18ef761",
   "metadata": {},
   "source": [
    "4. 最後一層，將最後一個元素也用上，並得到全部答案，如下"
   ]
  },
  {
   "cell_type": "markdown",
   "id": "182b18f0",
   "metadata": {},
   "source": [
    "<img src= './img/13.webp'>"
   ]
  },
  {
   "cell_type": "code",
   "execution_count": null,
   "id": "1d3d9114",
   "metadata": {},
   "outputs": [],
   "source": [
    "\n",
    "class Solution:\n",
    "    def __init__(self):\n",
    "        self.ans = []\n",
    "\n",
    "    def find(self, start, nums, max_length, comb):\n",
    "        if len(comb) + (len(nums) - start) < max_length:\n",
    "            return\n",
    "\n",
    "        # already have k elements in this combination\n",
    "        if len(comb) == max_length:\n",
    "            self.ans.append(comb[:])\n",
    "            return\n",
    "\n",
    "        if (start >= len(nums)):\n",
    "            return\n",
    "\n",
    "        # use this value\n",
    "        comb.append(nums[start])\n",
    "        self.find(start + 1, nums, max_length, comb)\n",
    "        comb.pop()\n",
    "\n",
    "        # don't use this value\n",
    "        self.find(start + 1, nums, max_length, comb)\n",
    "\n",
    "    def combine(self, n: int, k: int) -> List[List[int]]:\n",
    "        self.ans = []\n",
    "        self.find(0, [i + 1 for i in range(n)], k, [])\n",
    "        return self.ans\n",
    "\n",
    "s = Solution()\n",
    "n = 4\n",
    "k = 3\n",
    "print(s.combine(n, k))"
   ]
  },
  {
   "cell_type": "raw",
   "id": "9ec99806",
   "metadata": {},
   "source": [
    "用這個思路可以更好的理解，為何如果不做任何提前結束的優化，總時間複雜度會變成 O(2^N)，因為對於每個元素，我們都要展開兩個分支。但只要有適當的將不可能的分支都提早結束掉，最終時間複雜度也會與第一個方法一致。"
   ]
  },
  {
   "cell_type": "markdown",
   "id": "f8dd6cb6",
   "metadata": {},
   "source": [
    "# 排列 （Permutation）"
   ]
  },
  {
   "cell_type": "raw",
   "id": "1dfa1576",
   "metadata": {},
   "source": [
    "Permutation 類型的最基本問題，就是我們想知道在給定條件下，可以有幾種不同的排列。與 Combination 唯一差異，就是不同的順序，也被我們視為不同排列。看以下實際例子"
   ]
  },
  {
   "cell_type": "markdown",
   "id": "72a28321",
   "metadata": {},
   "source": [
    "### Q1: 給定元素 [1, 2, 3]，從中挑選 3 個，不能重複挑選，請列出所有可能排列"
   ]
  },
  {
   "cell_type": "raw",
   "id": "18605a74",
   "metadata": {},
   "source": [
    "同樣我們先自己觀察一下，答案只有六種，如下：\n",
    "[1, 2, 3], [1, 3, 2], [2, 1, 3], [2, 3, 1], [3, 1, 2], [3, 2, 1]"
   ]
  },
  {
   "cell_type": "raw",
   "id": "c932961f",
   "metadata": {},
   "source": [
    "做法與 Combination 其實非常相似，只是這次，我們每一輪的元素都是 [1, 2, 3]，但由於不能重複使用，所以要排除掉已經出現過的元素。這部分我們採用 Set 來記錄已經使用過得元素，因為這個資料結構可以在 O(1) 的時間複雜度內新增、刪除、查詢元素。在下圖中用大括號 { } 來代表 Set 中的元素。\n",
    "\n",
    "所以在每一層，我們都會依序詢問 1, 2, 3 是否曾經出現在 {…} 裡面，只要沒出現，就把元素加入 Permutation Array，並在 Set 中同時記錄此元素已經出現過，然後往下遞迴下一層。\n",
    "\n",
    "PS：Set 是一個不保證排序的資料結構，只能知道裡面有哪些元素。"
   ]
  },
  {
   "cell_type": "markdown",
   "id": "b9542da3",
   "metadata": {},
   "source": [
    "<img src= './img/14.webp'>"
   ]
  },
  {
   "cell_type": "raw",
   "id": "a259784e",
   "metadata": {},
   "source": [
    "以下用 Leetcode 46 Permutation 來寫範例程式碼"
   ]
  },
  {
   "cell_type": "code",
   "execution_count": 4,
   "id": "c3faf20a",
   "metadata": {},
   "outputs": [
    {
     "name": "stdout",
     "output_type": "stream",
     "text": [
      "[[1, 2, 3], [1, 3, 2], [2, 1, 3], [2, 3, 1], [3, 1, 2], [3, 2, 1]]\n"
     ]
    }
   ],
   "source": [
    "# Use `visited` set to record number which has been visited before.\n",
    "class Solution:\n",
    "    def __init__(self):\n",
    "        self.ans = []\n",
    "\n",
    "    def find(self, visited, nums, permutation):\n",
    "        if (len(visited) == len(nums)):\n",
    "            self.ans.append(permutation[:])\n",
    "            return\n",
    "\n",
    "        for n in nums:\n",
    "            if n not in visited:\n",
    "                visited.add(n)\n",
    "                permutation.append(n)\n",
    "                self.find(visited, nums, permutation)\n",
    "                visited.remove(n)\n",
    "                permutation.pop()\n",
    "\n",
    "    def permute(self, nums):\n",
    "        self.ans = []\n",
    "        self.find(set(), nums, [])\n",
    "        return self.ans\n",
    "      \n",
    "s = Solution()\n",
    "nums = [1,2,3]\n",
    "print(s.permute(nums))"
   ]
  },
  {
   "cell_type": "raw",
   "id": "ff538ffb",
   "metadata": {},
   "source": [
    "本章到此結束。如果到目前都還有看懂的讀者，恭喜你，對遞迴應該已經有滿好的理解了。同樣的概念可以應用在 Leetcode 上面的 Combination Sum 與 Subset 的系列題組上，就留給讀者自己挑戰看看，拿上面的 code 改幾行就可以過了，是非常好的考驗自己是否學會的題組。"
   ]
  },
  {
   "cell_type": "raw",
   "id": "bedfe456",
   "metadata": {},
   "source": [
    "不過遞迴的故事還沒完全結束。窮舉所有的可能性雖然很棒，但時間複雜度也非常高，幾乎是指數級別，有時題目或許不需要我們真的把答案都窮舉出來，那我們就該尋找更高效的做法。另外，有時候我們在把大問題切小的時候，小問題也可能不停的重複出現（想想費氏數列），導致遞迴時浪費一堆時間重複計算。如果想知道這些問題的解法，請看下一章 — 動態規劃。"
   ]
  }
 ],
 "metadata": {
  "kernelspec": {
   "display_name": "Python 3",
   "language": "python",
   "name": "python3"
  },
  "language_info": {
   "codemirror_mode": {
    "name": "ipython",
    "version": 3
   },
   "file_extension": ".py",
   "mimetype": "text/x-python",
   "name": "python",
   "nbconvert_exporter": "python",
   "pygments_lexer": "ipython3",
   "version": "3.8.10"
  }
 },
 "nbformat": 4,
 "nbformat_minor": 5
}
